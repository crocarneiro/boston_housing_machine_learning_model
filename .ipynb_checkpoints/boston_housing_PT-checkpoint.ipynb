{
 "cells": [
  {
   "cell_type": "markdown",
   "metadata": {},
   "source": [
    "# Nanodegree Fundamentos de Machine Learning\n",
    "## Modelo de Avaliação e Validação\n",
    "## Projeto 1: Estimando Preços dos Imóveis de Boston\n",
    "\n",
    "Bem-vindo ao primeiro projeto do Nanodegree de Engenheiro de Machine Learning! Neste Notebook, alguns templates de código estão sendo fornecidos para você, e você irá precisar implementar funcionalidades adicionais para completar este projeto com sucesso. Você não vai precisar modificar o código que foi incluído além do que está sendo pedido. Seções que começam com **'Implementação'** no cabeçalho indicam que o bloco de código seguinte vai exigir que você providencie funcionalidade adicional. Instruções serão fornecidas para cada seção e as especificidades da implementação são marcadas no bloco de código com o comando 'TODO'. Não esqueça de ler as instruções atentamente!\n",
    "\n",
    "Além do código implementado, haverá questões relacionadas com o projeto e sua implementação que você deve responder. Cada seção em que há uma questão para você responder, ela será precedida por **'Questão X'** no cabeçalho. Leia cada questão cuidadosamente e dê respostas completas no seguinte box de texto que contém **'Resposta: '**. O projeto enviado será avaliado com base nas respostas para cada uma das questões e a implementação que você nos forneceu.  \n",
    "\n",
    ">**Nota:** Células de Código e de Markdown podem ser executadas utilizando o atalho de teclado **Shift + Enter**. Além disso, as células Markdown podem ser editadas ao clicar normalmente duas vezes na célula para entrar no modo de edição."
   ]
  },
  {
   "cell_type": "markdown",
   "metadata": {},
   "source": [
    "## Antes de começar\n",
    "Certifique-se que a sua versão do scikit-learn é a mesma que deve ser utilizada neste notebook. Execute a célula abaixo para verificar se sua versão é a ideal. Se você não quiser fazer *downgrade*, você precisa ficar atento as diferenças citadas ao decorrer do código."
   ]
  },
  {
   "cell_type": "code",
   "execution_count": 1,
   "metadata": {},
   "outputs": [
    {
     "name": "stdout",
     "output_type": "stream",
     "text": [
      "A versão do scikit-learn é  0.19.1\n",
      "Tudo certo!\n"
     ]
    }
   ],
   "source": [
    "import sklearn\n",
    "print(\"A versão do scikit-learn é \", sklearn.__version__)\n",
    "if sklearn.__version__ >= '0.18':\n",
    "    print(\"Tudo certo!\")\n",
    "else:\n",
    "    print(\"Você precisa fazer upgrade do scikit-learn ou ficar atento com as diferenças das versões\")\n",
    "    print(\"Pode ser feito executando:\\n\")\n",
    "    print(\"pip install scikit-learn==0.18.1\")"
   ]
  },
  {
   "cell_type": "markdown",
   "metadata": {},
   "source": [
    "## Começando\n",
    "Neste projeto, você irá avaliar o desempenho e o poder de estimativa de um modelo que foi treinado e testado em dados coletados dos imóveis dos subúrbios de Boston, Massachusetts. Um modelo preparado para esses dados e visto como *bem ajustado* pode ser então utilizado para certas estimativas sobre um imóvel – em particular, seu valor monetário. Esse modelo seria de grande valor para alguém como um agente mobiliário, que poderia fazer uso dessas informações diariamente.\n",
    "\n",
    "O conjunto de dados para este projeto se origina do [repositório de Machine Learning da UCI](https://archive.ics.uci.edu/ml/datasets/Housing). Os dados de imóveis de Boston foram coletados em 1978 e cada uma das 489 entradas representa dados agregados sobre 14 atributos para imóveis de vários subúrbios de Boston. Para o propósito deste projeto, os passos de pré-processamento a seguir foram feitos para esse conjunto de dados:\n",
    "- 16 observações de dados possuem um valor `'MEDV'` de 50.0. Essas observações provavelmente contêm **valores ausentes ou censurados** e foram removidas.\n",
    "- 1 observação de dados tem um valor `'RM'` de 8.78. Essa observação pode ser considerada **valor atípico (outlier)** e foi removida.\n",
    "- Os atributos `'RM'`, `'LSTAT'`, `'PTRATIO'`, and `'MEDV'` são essenciais. O resto dos **atributos irrelevantes** foram excluídos.\n",
    "- O atributo `'MEDV'` foi **escalonado multiplicativamente** para considerar 35 anos de inflação de mercado.\n",
    "\n",
    "** Execute a célula de código abaixo para carregar o conjunto dos dados dos imóveis de Boston, além de algumas bibliotecas de Python necessárias para este projeto. Você vai saber que o conjunto de dados carregou com sucesso se o seu tamanho for reportado. **"
   ]
  },
  {
   "cell_type": "code",
   "execution_count": 18,
   "metadata": {},
   "outputs": [
    {
     "name": "stdout",
     "output_type": "stream",
     "text": [
      "O conjunto de dados de imóveis de Boston tem 489 pontos com 4 variáveis em cada.\n"
     ]
    }
   ],
   "source": [
    "# Importar as bibliotecas necessárias para este projeto\n",
    "import numpy as np\n",
    "import pandas as pd\n",
    "import visuals as vs # Supplementary code\n",
    "from sklearn.model_selection import ShuffleSplit\n",
    "\n",
    "# Formatação mais bonita para os notebooks\n",
    "%matplotlib inline\n",
    "\n",
    "# Executar o conjunto de dados de imóveis de Boston\n",
    "data = pd.read_csv('housing.csv')\n",
    "prices = data['MEDV']\n",
    "features = data.drop('MEDV', axis = 1)\n",
    "    \n",
    "# Êxito\n",
    "print(\"O conjunto de dados de imóveis de Boston tem {} pontos com {} variáveis em cada.\".format(*data.shape))"
   ]
  },
  {
   "cell_type": "markdown",
   "metadata": {},
   "source": [
    "## Explorando os Dados\n",
    "Na primeira seção deste projeto, você fará uma rápida investigação sobre os dados de imóveis de Boston e fornecerá suas observações. Familiarizar-se com os dados durante o processo de exploração é uma prática fundamental que ajuda você a entender melhor e justificar seus resultados.\n",
    "\n",
    "Dado que o objetivo principal deste projeto é construir um modelo de trabalho que tem a capacidade de estimar valores dos imóveis, vamos precisar separar os conjuntos de dados em **atributos** e **variável alvo**. O **atributos**, `'RM'`, `'LSTAT'` e `'PTRATIO'`, nos dão informações quantitativas sobre cada ponto de dado. A **variável alvo**, `'MEDV'`, será a variável que procuramos estimar. Eles são armazenados em `features` e ` prices`, respectivamente."
   ]
  },
  {
   "cell_type": "markdown",
   "metadata": {},
   "source": [
    "### Implementação: Calcular Estatísticas\n",
    "Para a sua primeira implementação de código, você vai calcular estatísticas descritivas sobre preços dos imóveis de Boston. Dado que o `numpy` já foi importado para você, use essa biblioteca para executar os cálculos necessários. Essas estatísticas serão extremamente importantes depois para analisar várias estimativas resultantes do modelo construído.\n",
    "\n",
    "Na célula de código abaixo, você precisará implementar o seguinte:\n",
    "- Calcular o mínimo, o máximo, a média, a mediana e o desvio padrão do `'MEDV'`, que está armazenado em `prices`.\n",
    "  - Armazenar cada cálculo em sua respectiva variável."
   ]
  },
  {
   "cell_type": "code",
   "execution_count": 24,
   "metadata": {},
   "outputs": [
    {
     "name": "stdout",
     "output_type": "stream",
     "text": [
      "Estatísticas para os dados dos imóveis de Boston:\n",
      "\n",
      "Preço mínimo: $105,000.00\n",
      "Preço máximo: $1,024,800.00\n",
      "Preço médio: $454,342.94\n",
      "Preço mediano: $438,900.00\n",
      "Desvio padrão dos preços: $165,171.13\n"
     ]
    }
   ],
   "source": [
    "# TODO: Preço mínimo dos dados\n",
    "minimum_price = np.amin(prices)\n",
    "\n",
    "# TODO: Preço máximo dos dados\n",
    "maximum_price = np.amax(prices)\n",
    "\n",
    "# TODO: Preço médio dos dados\n",
    "mean_price = np.mean(prices)\n",
    "\n",
    "# TODO: Preço mediano dos dados\n",
    "median_price = np.median(prices)\n",
    "\n",
    "# TODO: Desvio padrão do preço dos dados\n",
    "std_price = np.std(prices)\n",
    "\n",
    "# Mostrar as estatísticas calculadas\n",
    "print(\"Estatísticas para os dados dos imóveis de Boston:\\n\")\n",
    "print(\"Preço mínimo: ${:,.2f}\".format(minimum_price))\n",
    "print(\"Preço máximo: ${:,.2f}\".format(maximum_price))\n",
    "print(\"Preço médio: ${:,.2f}\".format(mean_price))\n",
    "print(\"Preço mediano: ${:,.2f}\".format(median_price))\n",
    "print(\"Desvio padrão dos preços: ${:,.2f}\".format(std_price))"
   ]
  },
  {
   "cell_type": "markdown",
   "metadata": {},
   "source": [
    "### Questão 1 - Observação de Atributos\n",
    "Para lembrar, estamos utilizando três atributos do conjunto de dados dos imóveis de Boston: `'RM'`, `'LSTAT'` e `'PTRATIO'`. Para cada observação de dados (vizinhança):\n",
    "- `'RM'` é o número médio de cômodos entre os imóveis na vizinhança.\n",
    "- `'LSTAT'` é a porcentagem de proprietários na vizinhança considerados de \"classe baixa\" (proletariado).\n",
    "- `'PTRATIO'` é a razão de estudantes para professores nas escolas de ensino fundamental e médio na vizinhança.\n",
    "\n",
    "**Usando a sua intuição, para cada um dos atributos acima, você acha que um aumento no seu valor poderia levar a um _aumento_ no valor do `'MEDV'` ou uma _diminuição_ do valor do `'MEDV'`? Justifique sua opinião para cada uma das opções.**  \n",
    "\n",
    "**Dica:** Você pode tentar responder pensando em perguntas como:\n",
    "* Você espera que um imóvel que tem um valor `'RM'` de 6 custe mais ou menos que um imóvel com valor `'RM'` de 7?\n",
    "* Você espera que um imóvel em um bairro que tem um valor `'LSTAT'` de 15 custe mais ou menos que em um bairro com valor `'LSTAD'` de 20?\n",
    "* Você espera que um imóvel em um bairro que tem um valor `'PTRATIO'` de 10 custe mais ou menos que em um bairro com `'PTRATIO'` de 15?"
   ]
  },
  {
   "cell_type": "markdown",
   "metadata": {},
   "source": [
    "**Resposta: **\n",
    "- Um imóvel com 'RM' de 6 custa **menos** que um imóvel com 'RM' de 7;\n",
    "- Um imóvel com 'LSTAT' de 15 custa **mais** que um imóvel com 'LSTAT' de 20;\n",
    "- Um imóvel com 'PTRATIO' de 10 custa **menos** que um imóvel com 'PTRATIO' de 15."
   ]
  },
  {
   "cell_type": "markdown",
   "metadata": {},
   "source": [
    "----\n",
    "\n",
    "## Desenvolvendo um Modelo\n",
    "Na segunda seção deste projeto, você vai desenvolver ferramentas e técnicas necessárias para um modelo que faz estimativas. Ser capaz de fazer avaliações precisas do desempenho de cada modelo através do uso dessas ferramentas e técnicas ajuda a reforçar a confiança que você tem em suas estimativas."
   ]
  },
  {
   "cell_type": "markdown",
   "metadata": {},
   "source": [
    "### Implementação: Definir uma Métrica de Desempenho\n",
    "É difícil medir a qualidade de um modelo dado sem quantificar seu desempenho durante o treinamento e teste. Isso é geralmente feito utilizando algum tipo de métrica de desempenho, através do cálculo de algum tipo de erro, qualidade de ajuste, ou qualquer outra medida útil. Para este projeto, você irá calcular o [*coeficiente de determinação*](https://pt.wikipedia.org/wiki/R%C2%B2), R<sup>2</sup>, para quantificar o desempenho do seu modelo. O coeficiente de determinação é uma estatística útil no campo de análise de regressão uma vez que descreve o quão \"bom\" é a capacidade do modelo em fazer estimativas. \n",
    "\n",
    "Os valores para R<sup>2</sup> têm um alcance de 0 a 1, que captura a porcentagem da correlação ao quadrado entre a estimativa e o valor atual da **variável alvo**. Um modelo R<sup>2</sup> de valor 0 sempre falha ao estimar a variável alvo, enquanto que um modelo R<sup>2</sup> de valor 1, estima perfeitamente a variável alvo. Qualquer valor entre 0 e 1 indica qual a porcentagem da variável alvo (ao utilizar o modelo) que pode ser explicada pelos **atributos**. *Um modelo pode dar também um R<sup>2</sup> negativo, que indica que o modelo não é melhor do que aquele que estima ingenuamente a média da variável alvo.*\n",
    "\n",
    "Para a função ‘performance_metric’ na célula de código abaixo, você irá precisar implementar o seguinte:\n",
    "- Utilizar o `r2_score` do `sklearn.metrics` para executar um cálculo de desempenho entre `y_true` e `y_predict`.\n",
    "- Atribuir a pontuação do desempenho para a variável `score`."
   ]
  },
  {
   "cell_type": "code",
   "execution_count": 25,
   "metadata": {},
   "outputs": [],
   "source": [
    "from sklearn.metrics import r2_score\n",
    "\n",
    "def performance_metric(y_true, y_predict):\n",
    "    \"\"\" Calcular e retornar a pontuação de desempenho entre \n",
    "        valores reais e estimados baseado na métrica escolhida. \"\"\"\n",
    "    \n",
    "    # TODO: Calcular a pontuação de desempenho entre 'y_true' e 'y_predict'\n",
    "    score = r2_score(y_true, y_predict)\n",
    "    \n",
    "    # Devolver a pontuação\n",
    "    return score"
   ]
  },
  {
   "cell_type": "markdown",
   "metadata": {},
   "source": [
    "### Questão 2 - Qualidade do Ajuste\n",
    "Admita que um conjunto de dados que contém cinco observações de dados e um modelo fez a seguinte estimativa para a variável alvo:\n",
    "\n",
    "| Valores Reais | Estimativa |\n",
    "| :-------------: | :--------: |\n",
    "| 3.0 | 2.5 |\n",
    "| -0.5 | 0.0 |\n",
    "| 2.0 | 2.1 |\n",
    "| 7.0 | 7.8 |\n",
    "| 4.2 | 5.3 |\n",
    "\n",
    "** Executar a célula de código abaixo para usar a função `performance_metric’ e calcular o coeficiente de determinação desse modelo. **"
   ]
  },
  {
   "cell_type": "code",
   "execution_count": 26,
   "metadata": {},
   "outputs": [
    {
     "name": "stdout",
     "output_type": "stream",
     "text": [
      "O coeficiente de determinação, R^2, do modelo é 0.923.\n"
     ]
    }
   ],
   "source": [
    "# Calcular o desempenho deste modelo\n",
    "score = performance_metric([3, -0.5, 2, 7, 4.2], [2.5, 0.0, 2.1, 7.8, 5.3])\n",
    "print(\"O coeficiente de determinação, R^2, do modelo é {:.3f}.\".format(score))"
   ]
  },
  {
   "cell_type": "markdown",
   "metadata": {},
   "source": [
    "* Você consideraria que esse modelo foi capaz de capturar a variação da variável alvo com sucesso? Por que ou por que não?\n",
    "\n",
    "** Dica: **\n",
    "* R2 score com valor 0 significa que a variável dependente não pode ser estimada pela variável independente.\n",
    "* R2 score com valor 1 significa que a variável dependente pode ser estimada pela variável independente.\n",
    "* R2 score com valor entre 0 e 1 significa quanto a variável dependente pode ser estimada pela variável independente.\n",
    "* R2 score com valor 0.40 significa que 40 porcento da variância em Y é estimável por X."
   ]
  },
  {
   "cell_type": "markdown",
   "metadata": {},
   "source": [
    "**Resposta:**\n",
    "Foi capaz, pois mais de 90% da variação da variável alvo pode ser estimada."
   ]
  },
  {
   "cell_type": "markdown",
   "metadata": {},
   "source": [
    "### Implementação: Misturar e Separar os Dados\n",
    "Sua próxima implementação exige que você pegue o conjunto de dados de imóveis de Boston e divida os dados em subconjuntos de treinamento e de teste. Geralmente os dados são também misturados em uma ordem aleatória ao criar os subconjuntos de treinamento e de teste para remover qualquer viés (ou erro sistemático) na ordenação do conjunto de dados.\n",
    "\n",
    "Para a célula de código abaixo, você vai precisar implementar o seguinte:\n",
    "- Utilize `train_test_split` do `sklearn.model_selection` para misturar e dividir os dados de `features` e `prices` em conjuntos de treinamento e teste. Leia mais [aqui](http://scikit-learn.org/0.19/modules/generated/sklearn.model_selection.train_test_split.html).\n",
    "  - Divida os dados em 80% treinamento e 20% teste.\n",
    "  - Mude o `random_state` do `train_test_split` para um valor de sua escolha. Isso garante resultados consistentes.\n",
    "- Atribuir a divisão de treinamento e teste para X_train`, `X_test`, `y_train` e `y_test`."
   ]
  },
  {
   "cell_type": "code",
   "execution_count": 27,
   "metadata": {},
   "outputs": [
    {
     "name": "stdout",
     "output_type": "stream",
     "text": [
      "Separação entre treino e teste feita com êxito.\n"
     ]
    }
   ],
   "source": [
    "from sklearn.model_selection import train_test_split\n",
    "\n",
    "# TODO: Misturar e separar os dados em conjuntos de treinamento e teste\n",
    "X_train, X_test, y_train, y_test = train_test_split(features, prices, test_size = 0.3)\n",
    "\n",
    "# Êxito\n",
    "print(\"Separação entre treino e teste feita com êxito.\")"
   ]
  },
  {
   "cell_type": "markdown",
   "metadata": {},
   "source": [
    "### Questão 3 - Treinamento e Teste\n",
    "* Qual o benefício de separar o conjunto de dados em alguma relação de subconjuntos de treinamento e de teste para um algoritmo de aprendizagem?\n",
    "\n",
    "**Dica:** O que pode dar errado se não houver uma maneira de testar seu modelo?"
   ]
  },
  {
   "cell_type": "markdown",
   "metadata": {},
   "source": [
    "**Resposta: **\n",
    "\n",
    "Precisamos separar os dados nesses subconjuntos para conseguir testar nosso modelo de modo a garantir que o nosso modelo não está com \"overfitting\" ou \"underfitting\", ou seja, para garantir que nosso modelo é capaz de fazer generalizações."
   ]
  },
  {
   "cell_type": "markdown",
   "metadata": {},
   "source": [
    "----\n",
    "\n",
    "## Analisando o Modelo de Desempenho\n",
    "Na terceira parte deste projeto, você verá o desempenho em aprendizagem e teste de vários modelos em diversos subconjuntos de dados de treinamento. Além disso, você irá investigar um algoritmo em particular com um parâmetro `'max_depth'` (profundidade máxima) crescente, em todo o conjunto de treinamento, para observar como a complexidade do modelo afeta o desempenho. Plotar o desempenho do seu modelo baseado em critérios diversos pode ser benéfico no processo de análise, por exemplo: para visualizar algum comportamento que pode não ter sido aparente nos resultados sozinhos."
   ]
  },
  {
   "cell_type": "markdown",
   "metadata": {},
   "source": [
    "### Curvas de Aprendizagem\n",
    "A célula de código seguinte produz quatro gráficos para um modelo de árvore de decisão com diferentes níveis de profundidade máxima. Cada gráfico visualiza a curva de aprendizagem do modelo para ambos treinamento e teste, assim que o tamanho do conjunto treinamento aumenta. Note que a região sombreada da curva de aprendizagem denota a incerteza daquela curva (medida como o desvio padrão). O modelo é pontuado em ambos os conjuntos treinamento e teste utilizando R<sup>2</sup>, o coeficiente de determinação.  \n",
    "\n",
    "**Execute a célula de código abaixo e utilizar esses gráficos para responder as questões a seguir.**"
   ]
  },
  {
   "cell_type": "code",
   "execution_count": 28,
   "metadata": {
    "scrolled": false
   },
   "outputs": [
    {
     "data": {
      "image/png": "[encoded data removed]",
      "text/plain": [
       "<Figure size 720x504 with 4 Axes>"
      ]
     },
     "metadata": {},
     "output_type": "display_data"
    }
   ],
   "source": [
    "# Criar curvas de aprendizagem para tamanhos de conjunto de treinamento variável e profundidades máximas\n",
    "vs.ModelLearning(features, prices)"
   ]
  },
  {
   "cell_type": "markdown",
   "metadata": {},
   "source": [
    "### Questão 4 - Compreendendo os Dados\n",
    "* Escolha qualquer um dos gráficos acima e mencione a profundidade máxima escolhida.\n",
    "* O que acontece com a pontuação da curva de treinamento se mais pontos de treinamento são adicionados? E o que acontece com a curva de teste?\n",
    "* Ter mais pontos de treinamento beneficia o modelo?\n",
    "\n",
    "**Dica:** As curvas de aprendizagem convergem para uma pontuação em particular? Geralmente, quanto mais dados você tem, melhor. Mas, se sua curva de treinamento e teste estão convergindo com um desempenho abaixo do benchmark, o que seria necessário? Pense sobre os prós e contras de adicionar mais pontos de treinamento baseado na convergência das curvas de treinamento e teste."
   ]
  },
  {
   "cell_type": "markdown",
   "metadata": {},
   "source": [
    "**Resposta: **"
   ]
  },
  {
   "cell_type": "markdown",
   "metadata": {},
   "source": [
    "### Curvas de Complexidade\n",
    "A célula de código a seguir produz um gráfico para um modelo de árvore de decisão que foi treinada e validada nos dados de treinamento utilizando profundidades máximas diferentes. O gráfico produz duas curvas de complexidade – uma para o treinamento e uma para a validação. Como a **curva de aprendizagem**, a área sombreada de ambas as curvas de complexidade denota uma incerteza nessas curvas, e o modelo pontuou em ambos os conjuntos de treinamento e validação utilizando a função `performance_metric`.  \n",
    "\n",
    "** Execute a célula de código abaixo e utilize o gráfico para responder as duas questões a seguir. **"
   ]
  },
  {
   "cell_type": "code",
   "execution_count": 29,
   "metadata": {},
   "outputs": [
    {
     "data": {
      "image/png": "[encoded data removed]",
      "text/plain": [
       "<Figure size 504x360 with 1 Axes>"
      ]
     },
     "metadata": {},
     "output_type": "display_data"
    }
   ],
   "source": [
    "vs.ModelComplexity(X_train, y_train)"
   ]
  },
  {
   "cell_type": "markdown",
   "metadata": {},
   "source": [
    "### Questão 5 - Equilíbrio entre viés e variância\n",
    "* Quando o modelo é treinado com o profundidade máxima 1, será que o modelo sofre mais de viés (erro sistemático) ou variância (erro aleatório)?\n",
    "* E o que acontece quando o modelo é treinado com profundidade máxima 10? Quais pistas visuais existem no gráfico para justificar suas conclusões?\n",
    "\n",
    "**Dica:** Como você sabe que um modelo está experimentando viés alto ou variância alta? Viés alto é um sinal de *underfitting* (o modelo não é complexo o suficiente para aprender os dados) e alta variância é um sinal de *overfitting* (o modelo está \"decorando\" os dados e não consegue generalizar bem o problema). Pense em modelos (com profundidade de 1 e 10, por exemplo) e qual deles está alinhado com qual parte do equilíbrio."
   ]
  },
  {
   "cell_type": "markdown",
   "metadata": {},
   "source": [
    "**Resposta: **"
   ]
  },
  {
   "cell_type": "markdown",
   "metadata": {},
   "source": [
    "### Questão 6 - Modelo Ótimo de Melhor Suposição\n",
    "* Qual profundidade máxima (`'max_depth'`) você acredita que resulta em um modelo que melhor generaliza um dado desconhecido?\n",
    "* Que intuição te levou a essa resposta?\n",
    "\n",
    "**Dica: ** Olhe no gráfico acima e veja o desempenho de validação para várias profundidades atribuidas ao modelo. Ele melhora conforme a profundidade fica maior? Em qual ponto nós temos nosso melhor desempenho de validação sem supercomplicar nosso modelo? E lembre-se, de acordo com a [Navalha de Occam](https://pt.wikipedia.org/wiki/Navalha_de_Occam), sempre devemos optar pelo mais simples ao complexo se ele conseguir definir bem o problema."
   ]
  },
  {
   "cell_type": "markdown",
   "metadata": {},
   "source": [
    "**Resposta: **"
   ]
  },
  {
   "cell_type": "markdown",
   "metadata": {},
   "source": [
    "-----\n",
    "\n",
    "## Avaliando o Desempenho do Modelo\n",
    "Nesta parte final do projeto, você irá construir um modelo e fazer uma estimativa de acordo com o conjunto de atributos do cliente utilizando um modelo otimizado a partir de `fit_model`."
   ]
  },
  {
   "cell_type": "markdown",
   "metadata": {},
   "source": [
    "### Questão 7 - Busca em Matriz\n",
    "* O que é a técnica de busca em matriz (*grid search*)?\n",
    "* Como ela pode ser aplicada para otimizar um algoritmo de aprendizagem?\n",
    "\n",
    "** Dica: ** Quando explicar a técnica de busca em matriz, tenha certeza que você explicou o motivo dela ser usada, o que a 'matriz' significa nesse caso e qual o objetivo da técnica. Para ter uma resposta mais sólida, você pode também dar exemplo de um parâmetro em um modelo que pode ser otimizado usando essa técnica."
   ]
  },
  {
   "cell_type": "markdown",
   "metadata": {},
   "source": [
    "**Resposta: **"
   ]
  },
  {
   "cell_type": "markdown",
   "metadata": {},
   "source": [
    "### Questão 8 - Validação Cruzada\n",
    "* O que é a técnica de treinamento de validação-cruzada k-fold?\n",
    "* Quais benefícios essa técnica proporciona para busca em matriz ao otimizar um modelo?\n",
    "\n",
    "**Dica:** Lembre-se de expllicar o que significa o 'k' da validação-cruzada k-fold, como a base de dados é dividida e quantas vezes ela é executada.\n",
    "\n",
    "Assim como há um raciocínio por trás de utilizar um conjunto de teste, o que poderia dar errado ao utilizar busca em matriz sem um conjunto de validação cruzada? Você pode utilizar a [documentação](http://scikit-learn.org/stable/modules/cross_validation.html#cross-validation) para basear sua resposta."
   ]
  },
  {
   "cell_type": "markdown",
   "metadata": {},
   "source": [
    "**Resposta: **"
   ]
  },
  {
   "cell_type": "markdown",
   "metadata": {},
   "source": [
    "### Implementação: Ajustar um Modelo\n",
    "Na sua última implementação, você vai precisar unir tudo o que foi aprendido e treinar um modelo utilizando o **algoritmo de árvore de decisão**. Para garantir que você está produzindo um modelo otimizado, você treinará o modelo utilizando busca em matriz para otimizar o parâmetro de profundidade máxima (`'max_depth'`) para uma árvore de decisão. Esse parâmetro pode ser entendido como o número de perguntas que o algoritmo de árvore de decisão pode fazer sobre os dados antes de fazer uma estimativa. Árvores de decisão são parte de uma classe de algoritmos chamados *algoritmos de aprendizagem supervisionada*.\n",
    "\n",
    "Além disso, você verá que a implementação está usando o `ShuffleSplit()` como alternativa para a validação cruzada (veja a variável `cv_sets`). Ela não é a técnica que você descreveu na **Questão 8**, mas ela é tão útil quanto. O `ShuffleSplit()` abaixo irá criar 10 (`n_splits`) conjuntos misturados e 20% (`test_size`) dos dados serão utilizados para validação. Enquanto estiver trabalhando na sua implementação, pense nas diferenças e semelhanças com a validação k-fold.\n",
    "\n",
    "* [ShuffleSplit](http://scikit-learn.org/0.18/modules/generated/sklearn.model_selection.ShuffleSplit.html#sklearn.model_selection.ShuffleSplit) - `ShuffleSplit(n_splits=10, test_size=’default’, train_size=None, random_state=None)`\n",
    "\n",
    "Para a função `fit_model` na célula de código abaixo, você vai precisar implementar o seguinte:\n",
    "- Utilize o [`DecisionTreeRegressor`](http://scikit-learn.org/stable/modules/generated/sklearn.tree.DecisionTreeRegressor.html) do `sklearn.tree` para gerar um objeto regressor de árvore de decisão.\n",
    "  - Atribua esse objeto à variável `'regressor'`.\n",
    "- Gere um dicionário para `'max_depth'` com os valores de 1 a 10 e atribua isso para a variável `'params'`.\n",
    "- Utilize o [`make_scorer`](http://scikit-learn.org/stable/modules/generated/sklearn.metrics.make_scorer.html) do `sklearn.metrics` para gerar um objeto de função de pontuação.\n",
    "  - Passe a função `performance_metric` como um parâmetro para esse objeto.\n",
    "  - Atribua a função de pontuação à variável `'scoring_fnc'`.\n",
    "- Utilize o [`GridSearchCV`](http://scikit-learn.org/stable/modules/generated/sklearn.grid_search.GridSearchCV.html) do `sklearn.grid_search` para gerar um objeto de busca por matriz.\n",
    "  - Passe as variáveis `'regressor'`, `'params'`, `'scoring_fnc'` and `'cv_sets'` como parâmetros para o objeto. \n",
    "  - Atribua o objeto `GridSearchCV` para a variável `'grid'`."
   ]
  },
  {
   "cell_type": "code",
   "execution_count": null,
   "metadata": {
    "collapsed": true
   },
   "outputs": [],
   "source": [
    "# TODO: Importar 'make_scorer', 'DecisionTreeRegressor' e 'GridSearchCV'\n",
    "\n",
    "def fit_model(X, y):\n",
    "    \"\"\" Desempenhar busca em matriz sobre o parâmetro the 'max_depth' para uma \n",
    "        árvore de decisão de regressão treinada nos dados de entrada [X, y]. \"\"\"\n",
    "    \n",
    "    # Gerar conjuntos de validação-cruzada para o treinamento de dados\n",
    "    cv_sets = ShuffleSplit(n_splits=10, test_size = 0.20, random_state=0)\n",
    "\n",
    "    # TODO: Gerar uma árvore de decisão de regressão de objeto\n",
    "    regressor = None\n",
    "\n",
    "    # TODO: Gerar um dicionário para o parâmetro 'max_depth' com um alcance de 1 a 10\n",
    "    params = {}\n",
    "\n",
    "    # TODO: Transformar 'performance_metric' em uma função de pontuação utilizando 'make_scorer' \n",
    "    scoring_fnc = None\n",
    "\n",
    "    # TODO: Gerar o objeto de busca em matriz\n",
    "    grid = None\n",
    "\n",
    "    # Ajustar o objeto de busca em matriz com os dados para calcular o modelo ótimo\n",
    "    grid = grid.fit(X, y)\n",
    "\n",
    "    # Devolver o modelo ótimo depois de realizar o ajuste dos dados\n",
    "    return grid.best_estimator_"
   ]
  },
  {
   "cell_type": "markdown",
   "metadata": {},
   "source": [
    "### Fazendo Estimativas\n",
    "Uma vez que o modelo foi treinado em conjunto de dados atribuído, ele agora pode ser utilizado para fazer estimativas em novos conjuntos de entrada de dados. No caso do *regressor da árvore de decisão*, o modelo aprendeu *quais são as melhores perguntas sobre a entrada de dados*, e pode responder com uma estimativa para a **variável alvo**. Você pode utilizar essas estimativas para conseguir informações sobre os dados dos quais o valor da variável alvo é desconhecida – por exemplo, os dados dos quais o modelo não foi treinado."
   ]
  },
  {
   "cell_type": "markdown",
   "metadata": {},
   "source": [
    "### Questão 9 - Modelo Ótimo\n",
    "* Qual profundidade máxima do modelo ótimo? Como esse resultado se compara com a sua suposição na **Questão 6**?  \n",
    "\n",
    "** Executar a célula de código abaixo para ajustar o regressor da árvore de decisão com os dados de treinamento e gerar um modelo ótimo. **"
   ]
  },
  {
   "cell_type": "code",
   "execution_count": null,
   "metadata": {
    "collapsed": true,
    "scrolled": true
   },
   "outputs": [],
   "source": [
    "# Ajustar os dados de treinamento para o modelo utilizando busca em matriz\n",
    "reg = fit_model(X_train, y_train)\n",
    "\n",
    "# Produzir valores para 'max_depth'\n",
    "print(\"O parâmetro 'max_depth' é {} para o modelo ótimo.\".format(reg.get_params()['max_depth']))"
   ]
  },
  {
   "cell_type": "markdown",
   "metadata": {},
   "source": [
    "**Dica: ** A resposta vem da saída do código acima.\n",
    "\n",
    "**Resposta: **"
   ]
  },
  {
   "cell_type": "markdown",
   "metadata": {},
   "source": [
    "### Questão 10 - Estimando Preços de Venda\n",
    "Imagine que você era um corretor imobiliário na região de Boston ansioso para utilizar esse modelo que ajuda os imóveis que seus clientes desejam vender. Você coletou as seguintes informações de três dos seus clientes:\n",
    "\n",
    "| Atributos | Cliente 1 | Cliente 2 | Cliente 3 |\n",
    "| :---: | :---: | :---: | :---: |\n",
    "| Número total de cômodos em um imóvel | 5 cômodos | 4 cômodos | 8 cômodos |\n",
    "| Nível de pobreza da vizinhança (em %) | 17% | 32% | 3% |\n",
    "| Razão estudante:professor das escolas próximas | 15-to-1 | 22-to-1 | 12-to-1 |\n",
    "* Qual valor você sugeriria para cada um dos seus clientes para a venda de suas casas?\n",
    "* Esses preços parecem razoáveis dados os valores para cada atributo?*  \n",
    "\n",
    "**Dica:** Utilize as estatísticas que você calculou na seção **Explorando Dados** para ajudar a justificar sua resposta. Dos três clientes, o Cliente 3 tem a maior casa, no melhor bairro de escolas públicas e menor inídice de pobreza; Cliente 2 tem a menor casa, em um bairro com índice de pobreza relativamente alto e sem as melhores escolas públicas.\n",
    "\n",
    "** Execute a célula de códigos abaixo para que seu modelo otimizado faça estimativas para o imóvel de cada um dos clientes.**"
   ]
  },
  {
   "cell_type": "code",
   "execution_count": null,
   "metadata": {
    "collapsed": true
   },
   "outputs": [],
   "source": [
    "# Gerar uma matriz para os dados do cliente\n",
    "client_data = [[5, 17, 15], # Cliente 1\n",
    "               [4, 32, 22], # Cliente 2\n",
    "               [8, 3, 12]]  # Cliente 3\n",
    "\n",
    "# Mostrar estimativas\n",
    "for i, price in enumerate(reg.predict(client_data)):\n",
    "    print(\"Preço estimado para a casa do cliente {}: ${:,.2f}\".format(i+1, price))"
   ]
  },
  {
   "cell_type": "markdown",
   "metadata": {},
   "source": [
    "**Resposta: **"
   ]
  },
  {
   "cell_type": "markdown",
   "metadata": {},
   "source": [
    "### Sensibilidade\n",
    "Um modelo ótimo não é necessariamente um modelo robusto. Às vezes, um modelo é muito complexo ou muito simples para generalizar os novos dados. Às vezes, o modelo pode utilizar um algoritmo de aprendizagem que não é apropriado para a estrutura de dados especificado. Outras vezes, os próprios dados podem ter informação excessiva ou exemplos insuficientes para permitir que o modelo apreenda a variável alvo – ou seja, o modelo não pode ser ajustado.\n",
    "\n",
    "** Execute a célula de código abaixo para rodar a função `fit_model` dez vezes com diferentes conjuntos de treinamento e teste para ver como as estimativas para um cliente específico mudam se os dados foram treinados.**"
   ]
  },
  {
   "cell_type": "code",
   "execution_count": null,
   "metadata": {
    "collapsed": true
   },
   "outputs": [],
   "source": [
    "vs.PredictTrials(features, prices, fit_model, client_data)"
   ]
  },
  {
   "cell_type": "markdown",
   "metadata": {},
   "source": [
    "### Questão 11 - Aplicabilidade\n",
    "* Em poucas linhas, argumente se o modelo construído deve ou não ser utilizado de acordo com as configurações do mundo real.\n",
    "\n",
    "**Dica:** Olhe os valores calculados acima. Algumas questões para responder:\n",
    "* Quão relevante dados coletados em 1978 podem ser nos dias de hoje? A inflação é importante?\n",
    "* Os atributos presentes são suficientes para descrever um imóvel?\n",
    "* Esse modelo é robusto o suficiente para fazer estimativas consistentes?\n",
    "* Dados coletados em uma cidade urbana como Boston podem ser aplicados para uma cidade rural?\n",
    "* É justo julgar o preço de um único imóvel baseado nas características de todo o bairro?"
   ]
  },
  {
   "cell_type": "markdown",
   "metadata": {},
   "source": [
    "**Resposta: **"
   ]
  },
  {
   "cell_type": "markdown",
   "metadata": {},
   "source": [
    "> **Nota**: Uma vez que você tenha completado todos os códigos e respondido todas as questões acima, você pode finalizar seu trabalho exportando o iPython Notebook como um documento HTML.\n",
    "Você pode fazer isso usando o menu acima e navegando até\n",
    "* **File -> Download as -> HTML (.html)**\n",
    "* **Arquivo -> Download como -> HTML (.html)**\n",
    "\n",
    "> Inclua o documento gerado junto com esse notebook na sua submissão."
   ]
  }
 ],
 "metadata": {
  "kernelspec": {
   "display_name": "Python 3",
   "language": "python",
   "name": "python3"
  },
  "language_info": {
   "codemirror_mode": {
    "name": "ipython",
    "version": 3
   },
   "file_extension": ".py",
   "mimetype": "text/x-python",
   "name": "python",
   "nbconvert_exporter": "python",
   "pygments_lexer": "ipython3",
   "version": "3.6.6"
  }
 },
 "nbformat": 4,
 "nbformat_minor": 1
}
